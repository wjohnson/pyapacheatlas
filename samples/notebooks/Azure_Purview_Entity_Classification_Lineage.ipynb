{
 "cells": [
  {
   "cell_type": "markdown",
   "metadata": {},
   "source": [
    "# Overview\n",
    "\n",
    "In this notebook, we will explore how to create Azure Purview entity, classication, and lineage using Atlas APIs.\n",
    "\n",
    "## Pre-requsites\n",
    "\n",
    "- [Python 3](https://www.python.org/downloads/)\n",
    "- [Az CLI](https://docs.microsoft.com/en-us/cli/azure/install-azure-cli)"
   ]
  },
  {
   "cell_type": "code",
   "execution_count": null,
   "metadata": {},
   "outputs": [],
   "source": [
    "import json"
   ]
  },
  {
   "cell_type": "code",
   "execution_count": null,
   "metadata": {},
   "outputs": [],
   "source": [
    "SUBSCRIPTION_ID = \"TODO\" # fill in\n",
    "RESOURCE_GROUP = \"TODO\" # fill in\n",
    "PURVIEW_NAME = \"TODO\" # fill in\n",
    "SERVICE_PRINCIPAL_NAME = \"TODO\" # fill in"
   ]
  },
  {
   "cell_type": "code",
   "execution_count": null,
   "metadata": {},
   "outputs": [],
   "source": [
    "!az login"
   ]
  },
  {
   "cell_type": "code",
   "execution_count": null,
   "metadata": {},
   "outputs": [],
   "source": [
    "!az account set --subscription {SUBSCRIPTION_ID}"
   ]
  },
  {
   "cell_type": "code",
   "execution_count": null,
   "metadata": {},
   "outputs": [],
   "source": [
    "# Create service principal to access Purview endpoint\n",
    "sp = !az ad sp create-for-rbac \\\n",
    "    --name \"http://{SERVICE_PRINCIPAL_NAME}\" \\\n",
    "    --role \"Purview Data Curator\" \\\n",
    "    --scopes /subscriptions/{SUBSCRIPTION_ID}/resourceGroups/{RESOURCE_GROUP}/providers/Microsoft.Purview/accounts/{PURVIEW_NAME}"
   ]
  },
  {
   "cell_type": "code",
   "execution_count": null,
   "metadata": {},
   "outputs": [],
   "source": [
    "sp_json_string = ''.join(sp[-7:])\n",
    "sp = json.loads(sp_json_string)"
   ]
  },
  {
   "cell_type": "code",
   "execution_count": null,
   "metadata": {},
   "outputs": [],
   "source": [
    "# Install Atlas Python client (https://github.com/wjohnson/pyapacheatlas)\n",
    "!pip install pyapacheatlas"
   ]
  },
  {
   "cell_type": "code",
   "execution_count": null,
   "metadata": {},
   "outputs": [],
   "source": [
    "from pyapacheatlas.auth import ServicePrincipalAuthentication\n",
    "from pyapacheatlas.core import PurviewClient\n",
    "\n",
    "\n",
    "oauth = ServicePrincipalAuthentication(\n",
    "    tenant_id=os.environ.get(\"TENANT_ID\", sp['tenant']),\n",
    "    client_id=os.environ.get(\"CLIENT_ID\", sp['appId']),\n",
    "    client_secret=os.environ.get(\"CLIENT_SECRET\", sp['password'])\n",
    ")\n"
   ]
  },
  {
   "cell_type": "code",
   "execution_count": null,
   "metadata": {},
   "outputs": [],
   "source": [
    "# Instantiate PurviewClient \n",
    "client = PurviewClient(\n",
    "    account_name = os.environ.get(\"PURVIEW_NAME\", PURVIEW_NAME),\n",
    "    authentication=oauth\n",
    ")"
   ]
  },
  {
   "cell_type": "code",
   "execution_count": null,
   "metadata": {},
   "outputs": [],
   "source": [
    "from pyapacheatlas.core import AtlasEntity\n",
    "\n",
    "\n",
    "# Create an entity\n",
    "# You must provide a name, typeName, qualified_name, and guid\n",
    "# the guid must be a negative number and unique in your batch\n",
    "# being uploaded.\n",
    "\n",
    "input01_qn = \"pyapacheatlas://demoinputclassification01\"\n",
    "input02_qn = \"pyapacheatlas://demoinputclassification02\"\n",
    "output01_qn = \"pyapacheatlas://demooutput01\"\n",
    "dataset_type_name = \"DataSet\"\n",
    "\n",
    "input01 = AtlasEntity(\n",
    "    name=\"input01\",\n",
    "    typeName=dataset_type_name,\n",
    "    qualified_name=input01_qn,\n",
    "    guid=-100\n",
    ")\n",
    "input02 = AtlasEntity(\n",
    "    name=\"input02\",\n",
    "    typeName=dataset_type_name,\n",
    "    qualified_name=input02_qn,\n",
    "    guid=-101\n",
    ")\n",
    "output01 = AtlasEntity(\n",
    "    name=\"output01\",\n",
    "    typeName=dataset_type_name,\n",
    "    qualified_name=output01_qn,\n",
    "    guid=-102\n",
    ")\n",
    "\n",
    "results = client.upload_entities(\n",
    "    batch=[input01, input02, output01]\n",
    ")"
   ]
  },
  {
   "cell_type": "markdown",
   "metadata": {},
   "source": [
    "After the AtlasEntities are created, you will be able to see these assets within the Purview portal.\n",
    "\n",
    "![Azure Purview Browse Asset Page](./img/purview_browse_asset.png)\n",
    "\n",
    "![Azure Purview Custom Asset Page](./img/purview_custom_assets.png)"
   ]
  },
  {
   "cell_type": "code",
   "execution_count": null,
   "metadata": {},
   "outputs": [],
   "source": [
    "# Get the Guids for us to work with\n",
    "guids = [v for v in results[\"guidAssignments\"].values()]\n",
    "\n",
    "guids"
   ]
  },
  {
   "cell_type": "code",
   "execution_count": null,
   "metadata": {},
   "outputs": [],
   "source": [
    "from pyapacheatlas.core import AtlasClassification\n",
    "\n",
    "\n",
    "# Classify one entity with multiple classifications\n",
    "print(f\"Adding multiple classifications to guid: {guids[0]}\")\n",
    "one_entity_multi_class = client.classify_entity(\n",
    "    guid=guids[0], \n",
    "    classifications=[\n",
    "        AtlasClassification(\"MICROSOFT.PERSONAL.DATE_OF_BIRTH\"),\n",
    "        AtlasClassification(\"MICROSOFT.PERSONAL.NAME\")\n",
    "        ],\n",
    "    force_update=True\n",
    ")\n",
    "print(json.dumps(one_entity_multi_class, indent=2))"
   ]
  },
  {
   "cell_type": "code",
   "execution_count": null,
   "metadata": {},
   "outputs": [],
   "source": [
    "from pyapacheatlas.core import AtlasClassification\n",
    "from pyapacheatlas.core.util import AtlasException\n",
    "\n",
    "\n",
    "# Classify Multiple Entities with one classification\n",
    "try:\n",
    "    multi_entity_single_class = client.classify_bulk_entities(\n",
    "        entityGuids=guids,\n",
    "        classification=AtlasClassification(\"MICROSOFT.PERSONAL.IPADDRESS\")\n",
    "    )\n",
    "    print(json.dumps(multi_entity_single_class, indent=2))\n",
    "except AtlasException as e:\n",
    "    print(\"One or more entities had the existing classification, so skipping it.\")\n",
    "    print(e)"
   ]
  },
  {
   "attachments": {},
   "cell_type": "markdown",
   "metadata": {},
   "source": [
    "After entities are classified, you can navigate to individual asset and explore its classifications within the Purview portal. \n",
    "\n",
    "![Azure Purview Classification](./img/purview_classification.png)"
   ]
  },
  {
   "cell_type": "code",
   "execution_count": null,
   "metadata": {},
   "outputs": [],
   "source": [
    "from pyapacheatlas.core import AtlasProcess\n",
    "\n",
    "\n",
    "# The Atlas Process is the lineage component that links the two\n",
    "# entities together. The inputs and outputs need to be the \"header\"\n",
    "# version of the atlas entities, so specify minimum = True to\n",
    "# return just guid, qualifiedName, and typeName.\n",
    "\n",
    "process_qn = \"pyapacheatlas://democustomprocess\"\n",
    "process_type_name = \"Process\"\n",
    "\n",
    "process = AtlasProcess(\n",
    "    name=\"sample process\",\n",
    "    typeName=process_type_name,\n",
    "    qualified_name=process_qn,\n",
    "    inputs=[input01, input02],\n",
    "    outputs=[output01],\n",
    "    guid=-103\n",
    ")\n",
    "\n",
    "# Convert the individual entities into json before uploading.\n",
    "results = client.upload_entities(\n",
    "    batch=[input01, input02, output01, process]\n",
    ")\n",
    "\n",
    "print(json.dumps(results, indent=2))"
   ]
  },
  {
   "cell_type": "markdown",
   "metadata": {},
   "source": [
    "After the AtlasProcess is created, you can navigate to the `sample process` asset and explore its lineage.\n",
    "\n",
    "![Azure Purview Lineage](./img/purview_lineage.png)"
   ]
  },
  {
   "cell_type": "markdown",
   "metadata": {},
   "source": [
    "# Clean Up"
   ]
  },
  {
   "cell_type": "code",
   "execution_count": null,
   "metadata": {},
   "outputs": [],
   "source": [
    "# Deletes all entities\n",
    "\n",
    "guid_assignment = results['guidAssignments']\n",
    "\n",
    "for local_guid in guid_assignment:\n",
    "    guid = guid_assignment[local_guid]\n",
    "    _ = client.delete_entity(guid)"
   ]
  }
 ],
 "metadata": {
  "kernelspec": {
   "display_name": "Python 3",
   "language": "python",
   "name": "python3"
  },
  "language_info": {
   "codemirror_mode": {
    "name": "ipython",
    "version": 3
   },
   "file_extension": ".py",
   "mimetype": "text/x-python",
   "name": "python",
   "nbconvert_exporter": "python",
   "pygments_lexer": "ipython3",
   "version": "3.6.9"
  }
 },
 "nbformat": 4,
 "nbformat_minor": 4
}
