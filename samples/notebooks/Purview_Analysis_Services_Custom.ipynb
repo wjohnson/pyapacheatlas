{
 "cells": [
  {
   "cell_type": "markdown",
   "metadata": {},
   "source": [
    "# Overview\n",
    "---\n",
    "> In this Notebook, we will explore PyApacheAtlas package to work with Apache Atlas API in order to create custom Types, Entities and Relationships. \n",
    "All of that to make **Azure Analysis Services** assets available in Azure Purview.\n",
    "\n",
    "**Scanning of Analysis Services** is the second most voted idea on Microsoft's Feedback forum (<a href=\"https://feedback.azure.com/forums/932437-azure-purview/suggestions/42183862-scanning-of-analysis-services-azure-analysis-serv\"> Scanning AAS Idea</a>), but this feature currently is not in the product's roadmap.\n",
    "Several companies have a large footprint of Analysis Services and they need to keep track of that.\n",
    "\n",
    "This sample will help you to get started on create type structures, create entities and relationship to:\n",
    "- Azure Analysis Services SERVER\n",
    "- Azure Analysis Services MODELS\n",
    "- Azure Analysis Services TABLES\n",
    "- Azure Analysis Services COLUMNS\n",
    "\n",
    "### Prerequisites\n",
    "\n",
    "- [Python 3](https://www.python.org/downloads/)\n",
    "- [Install Atlas Python client](https://github.com/wjohnson/pyapacheatlas)\n",
    "<br>`python -m pip install pyapacheatlas`\n",
    "- [Create and configure a Service Principal to use Purview APIs](https://docs.microsoft.com/en-us/azure/purview/tutorial-using-rest-apis)\n",
    "\n"
   ]
  },
  {
   "cell_type": "code",
   "execution_count": null,
   "metadata": {},
   "outputs": [],
   "source": [
    "import json\n",
    "import os\n",
    "from pyapacheatlas.auth import ServicePrincipalAuthentication\n",
    "from pyapacheatlas.core import PurviewClient\n",
    "from pyapacheatlas.core import AtlasEntity, AtlasProcess\n",
    "from pyapacheatlas.core import AtlasAttributeDef, EntityTypeDef, RelationshipTypeDef\n",
    "from pyapacheatlas.core.util import GuidTracker\n",
    "from pyapacheatlas.readers import ExcelReader\n",
    "from pyapacheatlas.scaffolding import column_lineage_scaffold\n",
    "from pyapacheatlas.readers import ExcelConfiguration, ExcelReader"
   ]
  },
  {
   "cell_type": "markdown",
   "metadata": {},
   "source": [
    "#### Create a Purview Client Connection\n",
    "> Provides connectivity to your Atlas / Azure Purview service."
   ]
  },
  {
   "cell_type": "code",
   "execution_count": null,
   "metadata": {},
   "outputs": [],
   "source": [
    "auth = ServicePrincipalAuthentication(\n",
    "    tenant_id = \"Your-Tenant-ID\", # fill in\n",
    "    client_id = \"Your-Service-Principal-Client_ID\", # fill in\n",
    "    client_secret = \"Your-Service-Principal-Secret\" # fill in\n",
    ")\n",
    "\n",
    "# Create a client to connect to your service.\n",
    "client = PurviewClient(\n",
    "    account_name = \"Your-Purview-Account-Name\", # fill in\n",
    "    authentication = auth\n",
    ")"
   ]
  },
  {
   "cell_type": "markdown",
   "metadata": {},
   "source": [
    "#### Create a custom entity type that represents the Azure Analysis Services Server\n",
    "> What are the attributes that represents Analysis Services **Server**? <br>\n",
    "- Azure Tier\n",
    "- Subscription\n",
    "- Resource Group\n",
    "- Location\n",
    "<br> You can have many others attribute that make sense for you, this is completelly customizabe.\n",
    "<br> PS: superType is configured as \"azure_resource\" because this options is beeing based on Azure SQL Server superType. \n",
    "    "
   ]
  },
  {
   "cell_type": "code",
   "execution_count": null,
   "metadata": {},
   "outputs": [],
   "source": [
    "custom_type = EntityTypeDef(\n",
    "    name=\"azure_analysis_services_server\",\n",
    "    superTypes=[\"azure_resource\"],\n",
    "    description=\"azure_analysis_services_server\",\n",
    "    typeVersion=\"1.0\",\n",
    ")\n",
    "\n",
    "#Attributes that represents the server\n",
    "custom_type.addAttributeDef(\n",
    "    AtlasAttributeDef(name=\"tier\", typeName=\"string\", isOptional=False),\n",
    "    AtlasAttributeDef(name=\"subscription\", typeName=\"string\", isOptional=False),\n",
    "    AtlasAttributeDef(name=\"resource-group\", typeName=\"string\", isOptional=False),\n",
    "    AtlasAttributeDef(name=\"location\", typeName=\"string\", isOptional=False)\n",
    ")\n",
    "\n",
    "#Upload that custom type with the client\n",
    "client.upload_typedefs(\n",
    "    entityDefs=[custom_type],\n",
    "    force_update=True\n",
    ")"
   ]
  },
  {
   "cell_type": "markdown",
   "metadata": {},
   "source": [
    "#### Create a custom entity type that represents the Azure Analysis Services Model\n",
    "> What are the attributes that represents Analysis Services **Model**? <br>\n",
    "- Database Name\n",
    "- Compatibility Level\n",
    "<br> You can have many others attribute that make sense for you, this is completelly customizabe.\n",
    "<br> PS: superType is configured as \"Asset\" because this options is beeing based on Azure SQL Schema superType. "
   ]
  },
  {
   "cell_type": "code",
   "execution_count": null,
   "metadata": {},
   "outputs": [],
   "source": [
    "custom_type = EntityTypeDef(\n",
    "    name=\"azure_analysis_services_model\",\n",
    "    superTypes=[\"Asset\"],\n",
    "    description=\"azure_analysis_services_model\",\n",
    "    typeVersion=\"1.0\",\n",
    "    serviceType=\"Azure Analysis Services Model\",\n",
    ")\n",
    "\n",
    "#Attributes that represents the model\n",
    "custom_type.addAttributeDef(\n",
    "    AtlasAttributeDef(name=\"database-name\", typeName=\"string\", isOptional=False),\n",
    "    AtlasAttributeDef(name=\"compatibility-level\", typeName=\"int\", isOptional=False)\n",
    ")\n",
    "\n",
    "#Upload that custom type with the client\n",
    "client.upload_typedefs(\n",
    "    entityDefs=[custom_type],\n",
    "    force_update=True\n",
    ")"
   ]
  },
  {
   "cell_type": "markdown",
   "metadata": {},
   "source": [
    "#### Create a custom entity type that represents the Azure Analysis Services Model Table\n",
    "> What are the attributes that represents Analysis Services Model **Table**? <br>\n",
    "- Table Type \n",
    "- Query\n",
    "<br> You can have many others attribute that make sense for you, this is completelly customizabe.\n",
    "<br> PS: superType is configured as \"DataSet\" because this options is beeing based on Azure SQL Table superType. "
   ]
  },
  {
   "cell_type": "code",
   "execution_count": null,
   "metadata": {},
   "outputs": [],
   "source": [
    "custom_type = EntityTypeDef(\n",
    "    name=\"azure_analysis_services_table\",\n",
    "    superTypes=[\"DataSet\"],\n",
    "    description=\"azure_analysis_services_table\",\n",
    "    typeVersion=\"1.0\",\n",
    "    serviceType=\"Azure Analysis Services Model\",\n",
    ")\n",
    "\n",
    "#Attributes that represents the model table\n",
    "custom_type.addAttributeDef(\n",
    "    AtlasAttributeDef(name=\"tableType\", typeName=\"string\", isOptional=False),\n",
    "    AtlasAttributeDef(name=\"query\", typeName=\"string\", isOptional=False)\n",
    ")\n",
    "\n",
    "client.upload_typedefs(\n",
    "    entityDefs=[custom_type],\n",
    "    force_update=True\n",
    ")"
   ]
  },
  {
   "cell_type": "markdown",
   "metadata": {},
   "source": [
    "#### Create a custom entity type that represents the Azure Analysis Services Model Table Column\n",
    "> What are the attributes that represents Analysis Services Model Table **Column**? <br>\n",
    "- Data Type\n",
    "- isHidden\n",
    "- isKey\n",
    "- Column Type\n",
    "<br> You can have many others attribute that make sense for you, this is completelly customizabe.\n",
    "<br> PS: superType is configured as \"DataSet\" because this options is beeing based on Azure SQL Cloumn superType. "
   ]
  },
  {
   "cell_type": "code",
   "execution_count": null,
   "metadata": {},
   "outputs": [],
   "source": [
    "custom_type = EntityTypeDef(\n",
    "    name=\"azure_analysis_services_column\",\n",
    "    superTypes=[\"DataSet\"],\n",
    "    description=\"azure_analysis_services_column\",\n",
    "    typeVersion=\"1.0\",\n",
    "    serviceType=\"Azure Analysis Services Model\",\n",
    ")\n",
    "\n",
    "#Attributes that represents the model column\n",
    "custom_type.addAttributeDef(\n",
    "    AtlasAttributeDef(name=\"data_type\", typeName=\"string\", isOptional=False),\n",
    "    AtlasAttributeDef(name=\"isHidden\", typeName=\"string\", isOptional=False),\n",
    "    AtlasAttributeDef(name=\"isKey\", typeName=\"string\", isOptional=False),\n",
    "    AtlasAttributeDef(name=\"columnType\", typeName=\"string\", isOptional=False)\n",
    ")\n",
    "\n",
    "client.upload_typedefs(\n",
    "    entityDefs=[custom_type],\n",
    "    force_update=True\n",
    ")"
   ]
  },
  {
   "cell_type": "markdown",
   "metadata": {},
   "source": [
    "#### Create a custom type that represents the Relationship between AAS Servers and Models"
   ]
  },
  {
   "cell_type": "code",
   "execution_count": null,
   "metadata": {
    "scrolled": true
   },
   "outputs": [],
   "source": [
    "rd = RelationshipTypeDef(\n",
    "    name=\"azure_analysis_services_server_models\",\n",
    "    attributeDefs=[],\n",
    "    relationshipCategory=\"COMPOSITION\", # Means the child can't exist  without the parent\n",
    "    endDef1={ # endDef1 decribes what the parent will have as an attribute\n",
    "        \"type\":\"azure_analysis_services_server\", # Type of the parent\n",
    "        \"name\":\"models\", # What the parent will have\n",
    "        \"isContainer\": True,\n",
    "        \"cardinality\":\"SET\", # This is related to the cardinality, in this case the parent Server will have a SET of Models.\n",
    "        \"isLegacyAttribute\":False\n",
    "    },\n",
    "    endDef2={ # endDef2 decribes what the child will have as an attribute\n",
    "        \"type\":\"azure_analysis_services_model\", # Type of the child\n",
    "        \"name\":\"server\", # What the child will have\n",
    "        \"isContainer\":False,\n",
    "        \"cardinality\":\"SINGLE\",\n",
    "        \"isLegacyAttribute\":False\n",
    "    }\n",
    ")\n",
    "client.upload_typedefs(relationshipDefs=[rd])\n"
   ]
  },
  {
   "cell_type": "markdown",
   "metadata": {},
   "source": [
    "#### Create a custom type that represents the Relationship between AAS Models and Tables"
   ]
  },
  {
   "cell_type": "code",
   "execution_count": null,
   "metadata": {},
   "outputs": [],
   "source": [
    "rd = RelationshipTypeDef(\n",
    "    name=\"azure_analysis_services_model_tables\",\n",
    "    attributeDefs=[],\n",
    "    relationshipCategory=\"COMPOSITION\",\n",
    "    endDef1={\n",
    "        \"type\":\"azure_analysis_services_model\",\n",
    "        \"name\":\"tables\",\n",
    "        \"isContainer\":True,\n",
    "        \"cardinality\":\"SET\",\n",
    "        \"isLegacyAttribute\":False\n",
    "    },\n",
    "    endDef2={\n",
    "        \"type\":\"azure_analysis_services_table\",\n",
    "        \"name\":\"model\",\n",
    "        \"isContainer\":False,\n",
    "        \"cardinality\":\"SINGLE\",\n",
    "        \"isLegacyAttribute\":False\n",
    "    }\n",
    ")\n",
    "client.upload_typedefs(relationshipDefs=[rd])"
   ]
  },
  {
   "cell_type": "markdown",
   "metadata": {},
   "source": [
    "#### Create a custom type that represents the Relationship between AAS Tables and Columns"
   ]
  },
  {
   "cell_type": "code",
   "execution_count": null,
   "metadata": {},
   "outputs": [],
   "source": [
    "rd = RelationshipTypeDef(\n",
    "    name=\"azure_analysis_services_table_columns\",\n",
    "    attributeDefs=[],\n",
    "    relationshipCategory=\"COMPOSITION\",\n",
    "    endDef1={\n",
    "        \"type\":\"azure_analysis_services_table\",\n",
    "        \"name\":\"columns\",\n",
    "        \"isContainer\":True,\n",
    "        \"cardinality\":\"SET\",\n",
    "        \"isLegacyAttribute\":False\n",
    "    },\n",
    "    endDef2={\n",
    "        \"type\":\"azure_analysis_services_column\",\n",
    "        \"name\":\"table\",\n",
    "        \"isContainer\":False,\n",
    "        \"cardinality\":\"SINGLE\",\n",
    "        \"isLegacyAttribute\":False\n",
    "    }\n",
    ")\n",
    "client.upload_typedefs(relationshipDefs=[rd])"
   ]
  },
  {
   "cell_type": "markdown",
   "metadata": {},
   "source": [
    "#### Create an Entity (AAS Server) based on that EntityTypeDef that was created before"
   ]
  },
  {
   "cell_type": "code",
   "execution_count": null,
   "metadata": {},
   "outputs": [],
   "source": [
    "gt = GuidTracker() # Instantiate GuidTracker to manage guid creation\n",
    "serverGuid = gt.get_guid()\n",
    "\n",
    "#Create a new (AAS Server) entity\n",
    "ae = AtlasEntity(\n",
    "    name=\"AASHOMSERVER\",\n",
    "    typeName=\"azure_analysis_services_server\",\n",
    "    qualified_name=\"asazure://exsaaseastus2.asazure.windows.net/aashomserver\",# AAS Server name obtained on Azure Portal\n",
    "    guid=serverGuid,\n",
    "    attributes={\"tier\":\"D5\", \"subscription\":\"GProd\", \"resource-group\":\"USAZU1VRES302\", \"location\":\"EAST US 2\"}\n",
    ")\n",
    "# Upload the new entity\n",
    "uploadEntity = client.upload_entities(batch=[ae])"
   ]
  },
  {
   "cell_type": "markdown",
   "metadata": {},
   "source": [
    "#### Create an Entity (AAS Model) based on that EntityTypeDef that was created before"
   ]
  },
  {
   "cell_type": "code",
   "execution_count": null,
   "metadata": {},
   "outputs": [],
   "source": [
    "modelGuid1 = gt.get_guid()\n",
    "\n",
    "#Create a new (AAS Model) entity\n",
    "ae = AtlasEntity(\n",
    "    name=\"Model1\",\n",
    "    typeName=\"azure_analysis_services_model\",\n",
    "    qualified_name=\"asazure://exsaaseastus2.asazure.windows.net/aashomserver/model1\",\n",
    "    guid=modelGuid1,\n",
    "    attributes={\"database-name\":\"AASDB1\", \"compatibility-level\":1100}\n",
    ")\n",
    "# Upload the new entity\n",
    "uploadEntity = client.upload_entities(batch=[ae])"
   ]
  },
  {
   "cell_type": "markdown",
   "metadata": {},
   "source": [
    "#### Create an Entity (AAS Model) based on that EntityTypeDef that was created before"
   ]
  },
  {
   "cell_type": "code",
   "execution_count": null,
   "metadata": {},
   "outputs": [],
   "source": [
    "modelGuid2 = gt.get_guid()\n",
    "\n",
    "#Create a new (AAS Model) entity\n",
    "ae = AtlasEntity(\n",
    "    name=\"Model2\",\n",
    "    typeName=\"azure_analysis_services_model\",\n",
    "    qualified_name=\"asazure://exsaaseastus2.asazure.windows.net/aashomserver/model2\",\n",
    "    guid=modelGuid2,\n",
    "    attributes={\"database-name\":\"AASDB1\", \"compatibility-level\":1100}\n",
    ")\n",
    "# Upload the new entity\n",
    "uploadEntity = client.upload_entities(batch=[ae])"
   ]
  },
  {
   "cell_type": "markdown",
   "metadata": {},
   "source": [
    "#### Create an Entity (AAS Table) based on that EntityTypeDef that was created before"
   ]
  },
  {
   "cell_type": "code",
   "execution_count": null,
   "metadata": {},
   "outputs": [],
   "source": [
    "tableGuid = gt.get_guid()\n",
    "\n",
    "#Create a new (AAS Table) entity\n",
    "ae = AtlasEntity(\n",
    "    name=\"Table1\",\n",
    "    typeName=\"azure_analysis_services_table\",\n",
    "    qualified_name=\"asazure://exsaaseastus2.asazure.windows.net/aashomserver/model1/table1\",\n",
    "    guid=tableGuid,\n",
    "    attributes={\"tableType\":\"Data\", \"query\": \"\"}\n",
    ")\n",
    "# Upload the new entity\n",
    "uploadEntity = client.upload_entities(batch=[ae])"
   ]
  },
  {
   "cell_type": "markdown",
   "metadata": {},
   "source": [
    "#### Create an Entity (AAS Column) based on that EntityTypeDef that was created before"
   ]
  },
  {
   "cell_type": "code",
   "execution_count": null,
   "metadata": {
    "scrolled": true
   },
   "outputs": [],
   "source": [
    "columnGuid = gt.get_guid()\n",
    "\n",
    "#Create a new (AAS Column) entity\n",
    "ae = AtlasEntity(\n",
    "    name=\"Column1\",\n",
    "    description=\"Column description\",\n",
    "    typeName=\"azure_analysis_services_column\",\n",
    "    qualified_name=\"asazure://exsaaseastus2.asazure.windows.net/aashomserver/model1/table1#column1\",\n",
    "    guid=columnGuid,\n",
    "    attributes={\"data_type\":\"String\", \"isHidden\": \"FALSE\", \"isKey\":\"FALSE\", \"columnType\":\"Data\"}\n",
    ")\n",
    "# Upload the new entity\n",
    "uploadEntity = client.upload_entities(batch=[ae])"
   ]
  },
  {
   "cell_type": "markdown",
   "metadata": {},
   "source": [
    "> This is an exemple on how may be appearing on Azure Purview at this point:\n",
    "<img src=\"./img/searchResults.png\" width=\"700\" height=\"700\">\n",
    "\n",
    "---\n",
    "\n",
    "### Now create the relationship between the entities, using the guid reference for the entity created before\n",
    "#### Create the relationship between the server (AASHOMSERVER) and model (model1)"
   ]
  },
  {
   "cell_type": "code",
   "execution_count": null,
   "metadata": {},
   "outputs": [],
   "source": [
    "relationship = {\n",
    "    \"typeName\": \"azure_analysis_services_server_models\",\n",
    "    \"attributes\": {},\n",
    "    \"guid\": -100,\n",
    "    \"provenanceType\": 0,\n",
    "    \"end1\": {\n",
    "        \"guid\": serverGuid,\n",
    "        \"typeName\": \"azure_analysis_services_server\",\n",
    "        \"uniqueAttributes\": {\"qualifiedName\": \"asazure://exsaaseastus2.asazure.windows.net/aashomserver\"}\n",
    "\n",
    "    },\n",
    "    \"end2\": {\n",
    "        \"guid\": modelGuid1,\n",
    "        \"typeName\": \"azure_analysis_services_model\",\n",
    "        \"uniqueAttributes\": {\"qualifiedName\": \"asazure://exsaaseastus2.asazure.windows.net/aashomserver/model1\"}\n",
    "    }\n",
    "}\n",
    "# Upload the new relationship\n",
    "client.upload_relationship(relationship)"
   ]
  },
  {
   "cell_type": "markdown",
   "metadata": {},
   "source": [
    "#### Create the relationship between the server (AASHOMSERVER) and model (model2)"
   ]
  },
  {
   "cell_type": "code",
   "execution_count": null,
   "metadata": {},
   "outputs": [],
   "source": [
    "relationship = {\n",
    "    \"typeName\": \"azure_analysis_services_server_models\",\n",
    "    \"attributes\": {},\n",
    "    \"guid\": -100,\n",
    "    \"provenanceType\": 0,\n",
    "    \"end1\": {\n",
    "        \"guid\": serverGuid,\n",
    "        \"typeName\": \"azure_analysis_services_server\",\n",
    "        \"uniqueAttributes\": {\"qualifiedName\": \"asazure://exsaaseastus2.asazure.windows.net/aashomserver\"}\n",
    "\n",
    "    },\n",
    "    \"end2\": {\n",
    "        \"guid\": modelGuid2,\n",
    "        \"typeName\": \"azure_analysis_services_model\",\n",
    "        \"uniqueAttributes\": {\"qualifiedName\": \"asazure://exsaaseastus2.asazure.windows.net/aashomserver/model2\"}\n",
    "    }\n",
    "}\n",
    "# Upload the new relationship\n",
    "client.upload_relationship(relationship)"
   ]
  },
  {
   "cell_type": "markdown",
   "metadata": {},
   "source": [
    "> This is an exemple on how may be appearing on Azure Purview at this point:\n",
    "<img src=\"./img/serverRelationWithModels.png\" width=\"800\" height=\"800\">\n",
    "\n",
    "---\n",
    "\n",
    "#### Create the relationship between the model (model1) and table (table1)"
   ]
  },
  {
   "cell_type": "code",
   "execution_count": null,
   "metadata": {},
   "outputs": [],
   "source": [
    "relationship = {\n",
    "    \"typeName\": \"azure_analysis_services_model_tables\",\n",
    "    \"attributes\": {},\n",
    "    \"guid\": -100,\n",
    "    \"provenanceType\": 0,\n",
    "    \"end1\": {\n",
    "        \"guid\": modelGuid1,\n",
    "        \"typeName\": \"azure_analysis_services_model\",\n",
    "        \"uniqueAttributes\": {\"qualifiedName\": \"asazure://exsaaseastus2.asazure.windows.net/aashomserver/model1\"}\n",
    "    },\n",
    "    \"end2\": {\n",
    "        \"guid\": tableGuid,\n",
    "        \"typeName\": \"azure_analysis_services_table\",\n",
    "        \"uniqueAttributes\": {\"qualifiedName\": \"asazure://exsaaseastus2.asazure.windows.net/aashomserver/model1/table1\"}\n",
    "    }\n",
    "}\n",
    "# Upload the new relationship\n",
    "client.upload_relationship(relationship)"
   ]
  },
  {
   "cell_type": "markdown",
   "metadata": {},
   "source": [
    "#### Create the relationship between the table (table1) and column (column1)"
   ]
  },
  {
   "cell_type": "code",
   "execution_count": null,
   "metadata": {},
   "outputs": [],
   "source": [
    "relationship = {\n",
    "    \"typeName\": \"azure_analysis_services_table_columns\",\n",
    "    \"attributes\": {},\n",
    "    \"guid\": -100,\n",
    "    \"provenanceType\": 0,\n",
    "    \"end1\": {\n",
    "        \"guid\": tableGuid,\n",
    "        \"typeName\": \"azure_analysis_services_table\",\n",
    "        \"uniqueAttributes\": {\"qualifiedName\": \"asazure://exsaaseastus2.asazure.windows.net/aashomserver/model1/table1\"}\n",
    "    },\n",
    "    \"end2\": {\n",
    "        \"guid\": columnGuid,\n",
    "        \"typeName\": \"azure_analysis_services_column\",\n",
    "        \"uniqueAttributes\": {\"qualifiedName\": \"asazure://exsaaseastus2.asazure.windows.net/aashomserver/model1/table1#column1\"}\n",
    "    }\n",
    "}\n",
    "# Upload the new relationship\n",
    "client.upload_relationship(relationship)"
   ]
  },
  {
   "cell_type": "markdown",
   "metadata": {},
   "source": [
    "> This is an exemple on how may be appearing on Azure Purview at this point:\n",
    "<img src=\"./img/tableRelationWithColumns.png\" width=\"800\" height=\"800\">\n",
    "\n",
    "---\n",
    "\n",
    "### Clean Up"
   ]
  },
  {
   "cell_type": "code",
   "execution_count": null,
   "metadata": {},
   "outputs": [],
   "source": [
    "# Deletes all entities and custom types\n",
    "client.delete_entity(guid=modelGuid1)\n",
    "client.delete_entity(guid=modelGuid2)\n",
    "client.delete_entity(guid=serverGuid)\n",
    "client.delete_entity(guid=tableGuid)\n",
    "client.delete_type(name=\"azure_analysis_services_server_models\")\n",
    "client.delete_type(name=\"azure_analysis_services_model_tables\")\n",
    "client.delete_type(name=\"azure_analysis_services_table_columns\")\n",
    "client.delete_type(name=\"azure_analysis_services_server\")\n",
    "client.delete_type(name=\"azure_analysis_services_model\")\n",
    "client.delete_type(name=\"azure_analysis_services_table\")\n",
    "client.delete_type(name=\"azure_analysis_services_column\")"
   ]
  },
  {
   "cell_type": "markdown",
   "metadata": {},
   "source": [
    "### Conclusions\n",
    "> This is a sample to help you to represents Azure Analysis Services on Azure Purviiew, creating and uploading the assets in a manual manner. <br> The point here is to give an overall ideia on how to configure everything and see how it works. <br><br>\n",
    "> For operationalize and make this process more automatic, you may get the metadata from AAS through API (<a href=\"https://docs.microsoft.com/en-us/rest/api/analysisservices/\">AAS REST API</a>) and upload everything using a Excel template file to do so (<a href=\"https://github.com/wjohnson/pyapacheatlas/tree/master/samples/excel\">Excel Sample</a>)."
   ]
  }
 ],
 "metadata": {
  "kernelspec": {
   "display_name": "Python 3",
   "language": "python",
   "name": "python3"
  },
  "language_info": {
   "codemirror_mode": {
    "name": "ipython",
    "version": 3
   },
   "file_extension": ".py",
   "mimetype": "text/x-python",
   "name": "python",
   "nbconvert_exporter": "python",
   "pygments_lexer": "ipython3",
   "version": "3.8.5"
  }
 },
 "nbformat": 4,
 "nbformat_minor": 4
}
